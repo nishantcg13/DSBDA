{
 "cells": [
  {
   "cell_type": "code",
   "execution_count": 3,
   "id": "64f88d2e-0b5e-4b0f-b014-14df0a66da65",
   "metadata": {},
   "outputs": [],
   "source": [
    "import pandas as pd\n",
    "import numpy as np"
   ]
  },
  {
   "cell_type": "code",
   "execution_count": 4,
   "id": "c4a71dee-3a4d-42e7-81a4-5b1280f29407",
   "metadata": {},
   "outputs": [],
   "source": [
    "url = \"https://raw.githubusercontent.com/FazlyRabbiBD/Data-Science-Book/refs/heads/master/data-income-age-group.csv\""
   ]
  },
  {
   "cell_type": "code",
   "execution_count": 5,
   "id": "018c59be-6c3b-4792-b85c-73233521f855",
   "metadata": {},
   "outputs": [],
   "source": [
    "df = pd.read_csv(url)"
   ]
  },
  {
   "cell_type": "code",
   "execution_count": 6,
   "id": "702491a5-4add-4c7f-9234-6ccb0113924c",
   "metadata": {},
   "outputs": [
    {
     "data": {
      "text/html": [
       "<div>\n",
       "<style scoped>\n",
       "    .dataframe tbody tr th:only-of-type {\n",
       "        vertical-align: middle;\n",
       "    }\n",
       "\n",
       "    .dataframe tbody tr th {\n",
       "        vertical-align: top;\n",
       "    }\n",
       "\n",
       "    .dataframe thead th {\n",
       "        text-align: right;\n",
       "    }\n",
       "</style>\n",
       "<table border=\"1\" class=\"dataframe\">\n",
       "  <thead>\n",
       "    <tr style=\"text-align: right;\">\n",
       "      <th></th>\n",
       "      <th>Name</th>\n",
       "      <th>Age</th>\n",
       "      <th>Income($)</th>\n",
       "    </tr>\n",
       "  </thead>\n",
       "  <tbody>\n",
       "    <tr>\n",
       "      <th>0</th>\n",
       "      <td>Rob</td>\n",
       "      <td>27</td>\n",
       "      <td>70000</td>\n",
       "    </tr>\n",
       "    <tr>\n",
       "      <th>1</th>\n",
       "      <td>Michael</td>\n",
       "      <td>29</td>\n",
       "      <td>90000</td>\n",
       "    </tr>\n",
       "    <tr>\n",
       "      <th>2</th>\n",
       "      <td>Mohan</td>\n",
       "      <td>29</td>\n",
       "      <td>61000</td>\n",
       "    </tr>\n",
       "    <tr>\n",
       "      <th>3</th>\n",
       "      <td>Ismail</td>\n",
       "      <td>28</td>\n",
       "      <td>60000</td>\n",
       "    </tr>\n",
       "    <tr>\n",
       "      <th>4</th>\n",
       "      <td>Kory</td>\n",
       "      <td>42</td>\n",
       "      <td>150000</td>\n",
       "    </tr>\n",
       "  </tbody>\n",
       "</table>\n",
       "</div>"
      ],
      "text/plain": [
       "      Name  Age  Income($)\n",
       "0      Rob   27      70000\n",
       "1  Michael   29      90000\n",
       "2    Mohan   29      61000\n",
       "3   Ismail   28      60000\n",
       "4     Kory   42     150000"
      ]
     },
     "execution_count": 6,
     "metadata": {},
     "output_type": "execute_result"
    }
   ],
   "source": [
    "df.head()"
   ]
  },
  {
   "cell_type": "code",
   "execution_count": 7,
   "id": "1f8940b0-d602-48f3-8b58-ac09e02aaa07",
   "metadata": {},
   "outputs": [],
   "source": [
    "df.rename(columns={'Income($)': 'income'}, inplace=True)"
   ]
  },
  {
   "cell_type": "code",
   "execution_count": 8,
   "id": "809fb026-71ee-43e8-b96c-991770506c57",
   "metadata": {},
   "outputs": [
    {
     "data": {
      "text/html": [
       "<div>\n",
       "<style scoped>\n",
       "    .dataframe tbody tr th:only-of-type {\n",
       "        vertical-align: middle;\n",
       "    }\n",
       "\n",
       "    .dataframe tbody tr th {\n",
       "        vertical-align: top;\n",
       "    }\n",
       "\n",
       "    .dataframe thead th {\n",
       "        text-align: right;\n",
       "    }\n",
       "</style>\n",
       "<table border=\"1\" class=\"dataframe\">\n",
       "  <thead>\n",
       "    <tr style=\"text-align: right;\">\n",
       "      <th></th>\n",
       "      <th>Name</th>\n",
       "      <th>Age</th>\n",
       "      <th>income</th>\n",
       "    </tr>\n",
       "  </thead>\n",
       "  <tbody>\n",
       "    <tr>\n",
       "      <th>0</th>\n",
       "      <td>Rob</td>\n",
       "      <td>27</td>\n",
       "      <td>70000</td>\n",
       "    </tr>\n",
       "    <tr>\n",
       "      <th>1</th>\n",
       "      <td>Michael</td>\n",
       "      <td>29</td>\n",
       "      <td>90000</td>\n",
       "    </tr>\n",
       "    <tr>\n",
       "      <th>2</th>\n",
       "      <td>Mohan</td>\n",
       "      <td>29</td>\n",
       "      <td>61000</td>\n",
       "    </tr>\n",
       "    <tr>\n",
       "      <th>3</th>\n",
       "      <td>Ismail</td>\n",
       "      <td>28</td>\n",
       "      <td>60000</td>\n",
       "    </tr>\n",
       "    <tr>\n",
       "      <th>4</th>\n",
       "      <td>Kory</td>\n",
       "      <td>42</td>\n",
       "      <td>150000</td>\n",
       "    </tr>\n",
       "  </tbody>\n",
       "</table>\n",
       "</div>"
      ],
      "text/plain": [
       "      Name  Age  income\n",
       "0      Rob   27   70000\n",
       "1  Michael   29   90000\n",
       "2    Mohan   29   61000\n",
       "3   Ismail   28   60000\n",
       "4     Kory   42  150000"
      ]
     },
     "execution_count": 8,
     "metadata": {},
     "output_type": "execute_result"
    }
   ],
   "source": [
    "df.head()"
   ]
  },
  {
   "cell_type": "code",
   "execution_count": 13,
   "id": "8d8e86f0-ab66-498d-92c8-a29128820073",
   "metadata": {},
   "outputs": [
    {
     "data": {
      "text/html": [
       "<div>\n",
       "<style scoped>\n",
       "    .dataframe tbody tr th:only-of-type {\n",
       "        vertical-align: middle;\n",
       "    }\n",
       "\n",
       "    .dataframe tbody tr th {\n",
       "        vertical-align: top;\n",
       "    }\n",
       "\n",
       "    .dataframe thead th {\n",
       "        text-align: right;\n",
       "    }\n",
       "</style>\n",
       "<table border=\"1\" class=\"dataframe\">\n",
       "  <thead>\n",
       "    <tr style=\"text-align: right;\">\n",
       "      <th></th>\n",
       "      <th>count</th>\n",
       "      <th>mean</th>\n",
       "      <th>std</th>\n",
       "      <th>min</th>\n",
       "      <th>25%</th>\n",
       "      <th>50%</th>\n",
       "      <th>75%</th>\n",
       "      <th>max</th>\n",
       "    </tr>\n",
       "    <tr>\n",
       "      <th>Age</th>\n",
       "      <th></th>\n",
       "      <th></th>\n",
       "      <th></th>\n",
       "      <th></th>\n",
       "      <th></th>\n",
       "      <th></th>\n",
       "      <th></th>\n",
       "      <th></th>\n",
       "    </tr>\n",
       "  </thead>\n",
       "  <tbody>\n",
       "    <tr>\n",
       "      <th>26</th>\n",
       "      <td>1.0</td>\n",
       "      <td>45000.000000</td>\n",
       "      <td>NaN</td>\n",
       "      <td>45000.0</td>\n",
       "      <td>45000.0</td>\n",
       "      <td>45000.0</td>\n",
       "      <td>45000.0</td>\n",
       "      <td>45000.0</td>\n",
       "    </tr>\n",
       "    <tr>\n",
       "      <th>27</th>\n",
       "      <td>2.0</td>\n",
       "      <td>59000.000000</td>\n",
       "      <td>15556.349186</td>\n",
       "      <td>48000.0</td>\n",
       "      <td>53500.0</td>\n",
       "      <td>59000.0</td>\n",
       "      <td>64500.0</td>\n",
       "      <td>70000.0</td>\n",
       "    </tr>\n",
       "    <tr>\n",
       "      <th>28</th>\n",
       "      <td>2.0</td>\n",
       "      <td>55500.000000</td>\n",
       "      <td>6363.961031</td>\n",
       "      <td>51000.0</td>\n",
       "      <td>53250.0</td>\n",
       "      <td>55500.0</td>\n",
       "      <td>57750.0</td>\n",
       "      <td>60000.0</td>\n",
       "    </tr>\n",
       "    <tr>\n",
       "      <th>29</th>\n",
       "      <td>3.0</td>\n",
       "      <td>66833.333333</td>\n",
       "      <td>20870.633276</td>\n",
       "      <td>49500.0</td>\n",
       "      <td>55250.0</td>\n",
       "      <td>61000.0</td>\n",
       "      <td>75500.0</td>\n",
       "      <td>90000.0</td>\n",
       "    </tr>\n",
       "    <tr>\n",
       "      <th>32</th>\n",
       "      <td>1.0</td>\n",
       "      <td>53000.000000</td>\n",
       "      <td>NaN</td>\n",
       "      <td>53000.0</td>\n",
       "      <td>53000.0</td>\n",
       "      <td>53000.0</td>\n",
       "      <td>53000.0</td>\n",
       "      <td>53000.0</td>\n",
       "    </tr>\n",
       "    <tr>\n",
       "      <th>35</th>\n",
       "      <td>1.0</td>\n",
       "      <td>130000.000000</td>\n",
       "      <td>NaN</td>\n",
       "      <td>130000.0</td>\n",
       "      <td>130000.0</td>\n",
       "      <td>130000.0</td>\n",
       "      <td>130000.0</td>\n",
       "      <td>130000.0</td>\n",
       "    </tr>\n",
       "    <tr>\n",
       "      <th>36</th>\n",
       "      <td>1.0</td>\n",
       "      <td>156000.000000</td>\n",
       "      <td>NaN</td>\n",
       "      <td>156000.0</td>\n",
       "      <td>156000.0</td>\n",
       "      <td>156000.0</td>\n",
       "      <td>156000.0</td>\n",
       "      <td>156000.0</td>\n",
       "    </tr>\n",
       "    <tr>\n",
       "      <th>37</th>\n",
       "      <td>1.0</td>\n",
       "      <td>137000.000000</td>\n",
       "      <td>NaN</td>\n",
       "      <td>137000.0</td>\n",
       "      <td>137000.0</td>\n",
       "      <td>137000.0</td>\n",
       "      <td>137000.0</td>\n",
       "      <td>137000.0</td>\n",
       "    </tr>\n",
       "    <tr>\n",
       "      <th>38</th>\n",
       "      <td>1.0</td>\n",
       "      <td>162000.000000</td>\n",
       "      <td>NaN</td>\n",
       "      <td>162000.0</td>\n",
       "      <td>162000.0</td>\n",
       "      <td>162000.0</td>\n",
       "      <td>162000.0</td>\n",
       "      <td>162000.0</td>\n",
       "    </tr>\n",
       "    <tr>\n",
       "      <th>39</th>\n",
       "      <td>3.0</td>\n",
       "      <td>97666.666667</td>\n",
       "      <td>50856.005873</td>\n",
       "      <td>58000.0</td>\n",
       "      <td>69000.0</td>\n",
       "      <td>80000.0</td>\n",
       "      <td>117500.0</td>\n",
       "      <td>155000.0</td>\n",
       "    </tr>\n",
       "    <tr>\n",
       "      <th>40</th>\n",
       "      <td>1.0</td>\n",
       "      <td>65000.000000</td>\n",
       "      <td>NaN</td>\n",
       "      <td>65000.0</td>\n",
       "      <td>65000.0</td>\n",
       "      <td>65000.0</td>\n",
       "      <td>65000.0</td>\n",
       "      <td>65000.0</td>\n",
       "    </tr>\n",
       "    <tr>\n",
       "      <th>41</th>\n",
       "      <td>3.0</td>\n",
       "      <td>101666.666667</td>\n",
       "      <td>51403.631519</td>\n",
       "      <td>63000.0</td>\n",
       "      <td>72500.0</td>\n",
       "      <td>82000.0</td>\n",
       "      <td>121000.0</td>\n",
       "      <td>160000.0</td>\n",
       "    </tr>\n",
       "    <tr>\n",
       "      <th>42</th>\n",
       "      <td>1.0</td>\n",
       "      <td>150000.000000</td>\n",
       "      <td>NaN</td>\n",
       "      <td>150000.0</td>\n",
       "      <td>150000.0</td>\n",
       "      <td>150000.0</td>\n",
       "      <td>150000.0</td>\n",
       "      <td>150000.0</td>\n",
       "    </tr>\n",
       "    <tr>\n",
       "      <th>43</th>\n",
       "      <td>1.0</td>\n",
       "      <td>64000.000000</td>\n",
       "      <td>NaN</td>\n",
       "      <td>64000.0</td>\n",
       "      <td>64000.0</td>\n",
       "      <td>64000.0</td>\n",
       "      <td>64000.0</td>\n",
       "      <td>64000.0</td>\n",
       "    </tr>\n",
       "  </tbody>\n",
       "</table>\n",
       "</div>"
      ],
      "text/plain": [
       "     count           mean           std       min       25%       50%  \\\n",
       "Age                                                                     \n",
       "26     1.0   45000.000000           NaN   45000.0   45000.0   45000.0   \n",
       "27     2.0   59000.000000  15556.349186   48000.0   53500.0   59000.0   \n",
       "28     2.0   55500.000000   6363.961031   51000.0   53250.0   55500.0   \n",
       "29     3.0   66833.333333  20870.633276   49500.0   55250.0   61000.0   \n",
       "32     1.0   53000.000000           NaN   53000.0   53000.0   53000.0   \n",
       "35     1.0  130000.000000           NaN  130000.0  130000.0  130000.0   \n",
       "36     1.0  156000.000000           NaN  156000.0  156000.0  156000.0   \n",
       "37     1.0  137000.000000           NaN  137000.0  137000.0  137000.0   \n",
       "38     1.0  162000.000000           NaN  162000.0  162000.0  162000.0   \n",
       "39     3.0   97666.666667  50856.005873   58000.0   69000.0   80000.0   \n",
       "40     1.0   65000.000000           NaN   65000.0   65000.0   65000.0   \n",
       "41     3.0  101666.666667  51403.631519   63000.0   72500.0   82000.0   \n",
       "42     1.0  150000.000000           NaN  150000.0  150000.0  150000.0   \n",
       "43     1.0   64000.000000           NaN   64000.0   64000.0   64000.0   \n",
       "\n",
       "          75%       max  \n",
       "Age                      \n",
       "26    45000.0   45000.0  \n",
       "27    64500.0   70000.0  \n",
       "28    57750.0   60000.0  \n",
       "29    75500.0   90000.0  \n",
       "32    53000.0   53000.0  \n",
       "35   130000.0  130000.0  \n",
       "36   156000.0  156000.0  \n",
       "37   137000.0  137000.0  \n",
       "38   162000.0  162000.0  \n",
       "39   117500.0  155000.0  \n",
       "40    65000.0   65000.0  \n",
       "41   121000.0  160000.0  \n",
       "42   150000.0  150000.0  \n",
       "43    64000.0   64000.0  "
      ]
     },
     "execution_count": 13,
     "metadata": {},
     "output_type": "execute_result"
    }
   ],
   "source": [
    "summary_stats = df.groupby('Age')['income'].describe()\n",
    "summary_stats"
   ]
  },
  {
   "cell_type": "code",
   "execution_count": 17,
   "id": "d41b6193-40be-449c-b6b1-2ca8ee355251",
   "metadata": {},
   "outputs": [
    {
     "data": {
      "text/plain": [
       "Age\n",
       "26     45000.000000\n",
       "27     59000.000000\n",
       "28     55500.000000\n",
       "29     66833.333333\n",
       "32     53000.000000\n",
       "35    130000.000000\n",
       "36    156000.000000\n",
       "37    137000.000000\n",
       "38    162000.000000\n",
       "39     97666.666667\n",
       "40     65000.000000\n",
       "41    101666.666667\n",
       "42    150000.000000\n",
       "43     64000.000000\n",
       "Name: income, dtype: float64"
      ]
     },
     "execution_count": 17,
     "metadata": {},
     "output_type": "execute_result"
    }
   ],
   "source": [
    "mean = df.groupby('Age')['income'].mean()\n",
    "mean"
   ]
  },
  {
   "cell_type": "code",
   "execution_count": 21,
   "id": "9ab3664c-f3b8-4835-830c-86f4c7a8a8d1",
   "metadata": {},
   "outputs": [
    {
     "data": {
      "text/plain": [
       "Age\n",
       "26     45000.0\n",
       "27     59000.0\n",
       "28     55500.0\n",
       "29     61000.0\n",
       "32     53000.0\n",
       "35    130000.0\n",
       "36    156000.0\n",
       "37    137000.0\n",
       "38    162000.0\n",
       "39     80000.0\n",
       "40     65000.0\n",
       "41     82000.0\n",
       "42    150000.0\n",
       "43     64000.0\n",
       "Name: income, dtype: float64"
      ]
     },
     "execution_count": 21,
     "metadata": {},
     "output_type": "execute_result"
    }
   ],
   "source": [
    "median = df.groupby('Age')['income'].median()\n",
    "median"
   ]
  },
  {
   "cell_type": "code",
   "execution_count": 25,
   "id": "0283cd80-5d67-430d-8a73-d418c7430662",
   "metadata": {},
   "outputs": [
    {
     "data": {
      "text/plain": [
       "Age\n",
       "26     45000\n",
       "27     48000\n",
       "28     51000\n",
       "29     49500\n",
       "32     53000\n",
       "35    130000\n",
       "36    156000\n",
       "37    137000\n",
       "38    162000\n",
       "39     58000\n",
       "40     65000\n",
       "41     63000\n",
       "42    150000\n",
       "43     64000\n",
       "Name: income, dtype: int64"
      ]
     },
     "execution_count": 25,
     "metadata": {},
     "output_type": "execute_result"
    }
   ],
   "source": [
    "min = df.groupby('Age')['income'].min()\n",
    "min"
   ]
  },
  {
   "cell_type": "code",
   "execution_count": 29,
   "id": "cf7ff0c5-d0d8-41f3-afc4-bb4b2812b333",
   "metadata": {},
   "outputs": [
    {
     "data": {
      "text/plain": [
       "Age\n",
       "26     45000\n",
       "27     70000\n",
       "28     60000\n",
       "29     90000\n",
       "32     53000\n",
       "35    130000\n",
       "36    156000\n",
       "37    137000\n",
       "38    162000\n",
       "39    155000\n",
       "40     65000\n",
       "41    160000\n",
       "42    150000\n",
       "43     64000\n",
       "Name: income, dtype: int64"
      ]
     },
     "execution_count": 29,
     "metadata": {},
     "output_type": "execute_result"
    }
   ],
   "source": [
    "max = df.groupby('Age')['income'].max()\n",
    "max"
   ]
  },
  {
   "cell_type": "code",
   "execution_count": 31,
   "id": "6bcdf04a-8d67-4ad0-8947-7e216f2aaa84",
   "metadata": {},
   "outputs": [
    {
     "data": {
      "text/plain": [
       "Age\n",
       "26             NaN\n",
       "27    15556.349186\n",
       "28     6363.961031\n",
       "29    20870.633276\n",
       "32             NaN\n",
       "35             NaN\n",
       "36             NaN\n",
       "37             NaN\n",
       "38             NaN\n",
       "39    50856.005873\n",
       "40             NaN\n",
       "41    51403.631519\n",
       "42             NaN\n",
       "43             NaN\n",
       "Name: income, dtype: float64"
      ]
     },
     "execution_count": 31,
     "metadata": {},
     "output_type": "execute_result"
    }
   ],
   "source": [
    "std = df.groupby('Age')['income'].std()\n",
    "std"
   ]
  },
  {
   "cell_type": "code",
   "execution_count": 35,
   "id": "fea4cb86-5dec-4a3f-b6d0-3cf05a1858d7",
   "metadata": {},
   "outputs": [
    {
     "data": {
      "text/plain": [
       "Age\n",
       "26                   [45000]\n",
       "27            [70000, 48000]\n",
       "28            [60000, 51000]\n",
       "29     [90000, 61000, 49500]\n",
       "32                   [53000]\n",
       "35                  [130000]\n",
       "36                  [156000]\n",
       "37                  [137000]\n",
       "38                  [162000]\n",
       "39    [155000, 80000, 58000]\n",
       "40                   [65000]\n",
       "41    [160000, 63000, 82000]\n",
       "42                  [150000]\n",
       "43                   [64000]\n",
       "Name: income, dtype: object"
      ]
     },
     "execution_count": 35,
     "metadata": {},
     "output_type": "execute_result"
    }
   ],
   "source": [
    "income_by_age = df.groupby('Age')['income'].apply(list)\n",
    "income_by_age"
   ]
  },
  {
   "cell_type": "code",
   "execution_count": null,
   "id": "07e160b0-d41f-424c-b980-d458b5c59006",
   "metadata": {},
   "outputs": [],
   "source": []
  }
 ],
 "metadata": {
  "kernelspec": {
   "display_name": "Python [conda env:base] *",
   "language": "python",
   "name": "conda-base-py"
  },
  "language_info": {
   "codemirror_mode": {
    "name": "ipython",
    "version": 3
   },
   "file_extension": ".py",
   "mimetype": "text/x-python",
   "name": "python",
   "nbconvert_exporter": "python",
   "pygments_lexer": "ipython3",
   "version": "3.12.7"
  }
 },
 "nbformat": 4,
 "nbformat_minor": 5
}
